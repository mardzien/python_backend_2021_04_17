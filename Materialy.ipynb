{
 "cells": [
  {
   "cell_type": "markdown",
   "id": "2457744d",
   "metadata": {},
   "source": [
    "# 1. Intro"
   ]
  },
  {
   "cell_type": "code",
   "execution_count": 1,
   "id": "a9d46cc1",
   "metadata": {},
   "outputs": [],
   "source": [
    "import beepy"
   ]
  },
  {
   "cell_type": "code",
   "execution_count": 2,
   "id": "c21c1d51",
   "metadata": {},
   "outputs": [
    {
     "name": "stdout",
     "output_type": "stream",
     "text": [
      "Writing config.txt\n"
     ]
    }
   ],
   "source": [
    "%%writefile config.txt\n",
    "09:00-10:45 - Praca\n",
    "10:45-11:00 - Przerwa\n",
    "11:00-12:45 - Praca\n",
    "12:45-13:45 - Przerwa obiadowa\n",
    "13:45-15:15 - Praca\n",
    "15:15-15:30 - Przerwa\n",
    "15:30-17:00 - Praca\n",
    "17:00 Koniec"
   ]
  },
  {
   "cell_type": "code",
   "execution_count": 3,
   "id": "0ff3004c",
   "metadata": {},
   "outputs": [],
   "source": [
    "import datetime"
   ]
  },
  {
   "cell_type": "code",
   "execution_count": 21,
   "id": "a4da46b9",
   "metadata": {},
   "outputs": [],
   "source": [
    "t = datetime.datetime.now()"
   ]
  },
  {
   "cell_type": "code",
   "execution_count": 25,
   "id": "91e5f040",
   "metadata": {},
   "outputs": [
    {
     "data": {
      "text/plain": [
       "11"
      ]
     },
     "execution_count": 25,
     "metadata": {},
     "output_type": "execute_result"
    }
   ],
   "source": [
    "t.hour"
   ]
  },
  {
   "cell_type": "code",
   "execution_count": 26,
   "id": "0b20a890",
   "metadata": {},
   "outputs": [
    {
     "data": {
      "text/plain": [
       "44"
      ]
     },
     "execution_count": 26,
     "metadata": {},
     "output_type": "execute_result"
    }
   ],
   "source": [
    "t.minute"
   ]
  },
  {
   "cell_type": "code",
   "execution_count": 6,
   "id": "48f042fd",
   "metadata": {},
   "outputs": [
    {
     "data": {
      "text/plain": [
       "datetime.datetime(2021, 4, 17, 17, 0)"
      ]
     },
     "execution_count": 6,
     "metadata": {},
     "output_type": "execute_result"
    }
   ],
   "source": [
    "t.replace(hour=17, minute=0, second=0, microsecond=0)"
   ]
  },
  {
   "cell_type": "code",
   "execution_count": 7,
   "id": "abdfbc41",
   "metadata": {},
   "outputs": [],
   "source": [
    "start = t.replace(hour=9, minute=0, second=0, microsecond=0)"
   ]
  },
  {
   "cell_type": "code",
   "execution_count": 8,
   "id": "882a34a0",
   "metadata": {},
   "outputs": [
    {
     "data": {
      "text/plain": [
       "datetime.datetime(2021, 4, 17, 9, 0)"
      ]
     },
     "execution_count": 8,
     "metadata": {},
     "output_type": "execute_result"
    }
   ],
   "source": [
    "start"
   ]
  },
  {
   "cell_type": "code",
   "execution_count": 27,
   "id": "8e94461a",
   "metadata": {},
   "outputs": [
    {
     "data": {
      "text/plain": [
       "True"
      ]
     },
     "execution_count": 27,
     "metadata": {},
     "output_type": "execute_result"
    }
   ],
   "source": [
    "start < t"
   ]
  },
  {
   "cell_type": "code",
   "execution_count": 19,
   "id": "26651422",
   "metadata": {},
   "outputs": [
    {
     "name": "stdout",
     "output_type": "stream",
     "text": [
      "[]\n"
     ]
    }
   ],
   "source": [
    "with open(\"config.txt\") as fh:\n",
    "    l1 = fh.readlines()\n",
    "    print(fh.readlines())\n",
    "\n",
    "d = {}\n",
    "\n",
    "for element in l1:    \n",
    "    if \"praca\" in element.lower():\n",
    "        d[element[:11]] = \"praca\"\n",
    "    elif \"przerwa\" in element.lower():\n",
    "        d[element[:11]] = \"przerwa\""
   ]
  },
  {
   "cell_type": "code",
   "execution_count": 20,
   "id": "c5b3a88b",
   "metadata": {},
   "outputs": [
    {
     "data": {
      "text/plain": [
       "{'09:00-10:45': 'praca',\n",
       " '10:45-11:00': 'przerwa',\n",
       " '11:00-12:45': 'praca',\n",
       " '12:45-13:45': 'przerwa',\n",
       " '13:45-15:15': 'praca',\n",
       " '15:15-15:30': 'przerwa',\n",
       " '15:30-17:00': 'praca'}"
      ]
     },
     "execution_count": 20,
     "metadata": {},
     "output_type": "execute_result"
    }
   ],
   "source": [
    "d"
   ]
  },
  {
   "cell_type": "code",
   "execution_count": null,
   "id": "8ecd1146",
   "metadata": {},
   "outputs": [],
   "source": [
    "\n",
    "\n",
    "for key, value in d.items():\n",
    "    "
   ]
  }
 ],
 "metadata": {
  "kernelspec": {
   "display_name": "Python 3",
   "language": "python",
   "name": "python3"
  },
  "language_info": {
   "codemirror_mode": {
    "name": "ipython",
    "version": 3
   },
   "file_extension": ".py",
   "mimetype": "text/x-python",
   "name": "python",
   "nbconvert_exporter": "python",
   "pygments_lexer": "ipython3",
   "version": "3.9.2"
  }
 },
 "nbformat": 4,
 "nbformat_minor": 5
}
